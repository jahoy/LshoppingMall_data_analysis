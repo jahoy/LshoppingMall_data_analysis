{
 "cells": [
  {
   "cell_type": "code",
   "execution_count": 4,
   "metadata": {},
   "outputs": [],
   "source": [
    "import pandas as pd\n",
    "from datetime import datetime\n",
    "import warnings\n",
    "warnings.filterwarnings('ignore')\n",
    "\n",
    "pd.set_option('display.max_rows', 500)\n",
    "pd.set_option('display.max_columns', 500)\n",
    "pd.set_option('display.width', 1000)"
   ]
  },
  {
   "cell_type": "markdown",
   "metadata": {},
   "source": [
    "## 데이터 로딩 및 기본 전처리\n",
    "- 10만건의 이력을 샘플링합니다.\n",
    "- Sales라는 구매 건수 * 제품 가격으로 구성된 컬럼을 생성합니다.\n",
    "- 최종 쓸 데이터 셋의 구성은 고객의 날짜마다 구매한 금액입니다."
   ]
  },
  {
   "cell_type": "code",
   "execution_count": 5,
   "metadata": {},
   "outputs": [],
   "source": [
    "df=pd.read_csv('total_dataset.csv')\n",
    "df.shape\n",
    "test=df[:100000]\n",
    "\n",
    "test['PD_BUY_AM']=test['PD_BUY_AM'].apply(lambda x: x.replace(',',''))\n",
    "test['PD_BUY_AM']=test['PD_BUY_AM'].apply(lambda x: x.replace('nan','0'))\n",
    "test['PD_BUY_AM']=test['PD_BUY_AM'].astype('int')\n",
    "test['Sales']=test['PD_BUY_AM']*test['PD_BUY_CT']\n",
    "test['SESS_DT']=test['SESS_DT'].apply(lambda x: datetime.strptime(str(x), '%Y%m%d').strftime('%Y-%m-%d'))\n",
    "cols_of_interest = ['CLNT_ID_y', 'SESS_DT', 'Sales']\n",
    "df = test[cols_of_interest]"
   ]
  },
  {
   "cell_type": "markdown",
   "metadata": {},
   "source": [
    "# CLV 분석 과정\n",
    "\n",
    "\n",
    "## CLV모델 정의\n",
    "1. frequency(빈도)는 고객이 반복 구매 한 횟수를 나타냅니다. 즉, 총 구매 횟수보다 1 적은 값 입니다.\n",
    "2. T(생존나이)는 선택된 시간 단위의 고객의 생존일수를 나타냅니다. 이것은 고객의 첫 구매와 연구 기간의 끝 사이의 기간과 동일합니다.\n",
    "3. recency(최근 구매 일)은 가장 최근에 구매 한 고객의 T를 나타냅니다. \n",
    "\n",
    "\n",
    "-> 이는 고객의 첫 구매와 최신 구매 간의 기간과 동일합니다. (따라서 1회만 구매 한 경우 recency 값이 0 입니다)\n",
    "\n",
    "\n",
    "## 1. RFM 분석\n",
    "- 고객들이 접속한 행동, 구매한 행동의 기반으로 어떤 특성을 갖고 있는지 분석합니다.\n",
    "\n",
    "## 2. RFM 분석을 바탕으로 그룹화한 집단을 이용해 분류 문제 수행\n",
    "- 1번의 세가지 특징을 바탕으로 클러스터링을 진행하고 나뉜 그룹 번호를 이용해 분류 문제를 수행합니다."
   ]
  },
  {
   "cell_type": "markdown",
   "metadata": {},
   "source": [
    "## 1. RFM 분석\n",
    "고객들이 접속한 행동, 구매한 행동의 기반으로 어떤 특성을 갖고 있는지 분석합니다."
   ]
  },
  {
   "cell_type": "code",
   "execution_count": 3,
   "metadata": {},
   "outputs": [
    {
     "data": {
      "text/html": [
       "<div>\n",
       "<style scoped>\n",
       "    .dataframe tbody tr th:only-of-type {\n",
       "        vertical-align: middle;\n",
       "    }\n",
       "\n",
       "    .dataframe tbody tr th {\n",
       "        vertical-align: top;\n",
       "    }\n",
       "\n",
       "    .dataframe thead th {\n",
       "        text-align: right;\n",
       "    }\n",
       "</style>\n",
       "<table border=\"1\" class=\"dataframe\">\n",
       "  <thead>\n",
       "    <tr style=\"text-align: right;\">\n",
       "      <th></th>\n",
       "      <th>frequency</th>\n",
       "      <th>recency</th>\n",
       "      <th>T</th>\n",
       "      <th>monetary_value</th>\n",
       "    </tr>\n",
       "    <tr>\n",
       "      <th>CLNT_ID_y</th>\n",
       "      <th></th>\n",
       "      <th></th>\n",
       "      <th></th>\n",
       "      <th></th>\n",
       "    </tr>\n",
       "  </thead>\n",
       "  <tbody>\n",
       "    <tr>\n",
       "      <th>1554</th>\n",
       "      <td>0.0</td>\n",
       "      <td>0.0</td>\n",
       "      <td>85.0</td>\n",
       "      <td>0.0</td>\n",
       "    </tr>\n",
       "    <tr>\n",
       "      <th>3572</th>\n",
       "      <td>0.0</td>\n",
       "      <td>0.0</td>\n",
       "      <td>29.0</td>\n",
       "      <td>0.0</td>\n",
       "    </tr>\n",
       "    <tr>\n",
       "      <th>5099</th>\n",
       "      <td>0.0</td>\n",
       "      <td>0.0</td>\n",
       "      <td>4.0</td>\n",
       "      <td>0.0</td>\n",
       "    </tr>\n",
       "    <tr>\n",
       "      <th>6759</th>\n",
       "      <td>0.0</td>\n",
       "      <td>0.0</td>\n",
       "      <td>14.0</td>\n",
       "      <td>0.0</td>\n",
       "    </tr>\n",
       "    <tr>\n",
       "      <th>18783</th>\n",
       "      <td>0.0</td>\n",
       "      <td>0.0</td>\n",
       "      <td>20.0</td>\n",
       "      <td>0.0</td>\n",
       "    </tr>\n",
       "  </tbody>\n",
       "</table>\n",
       "</div>"
      ],
      "text/plain": [
       "           frequency  recency     T  monetary_value\n",
       "CLNT_ID_y                                          \n",
       "1554             0.0      0.0  85.0             0.0\n",
       "3572             0.0      0.0  29.0             0.0\n",
       "5099             0.0      0.0   4.0             0.0\n",
       "6759             0.0      0.0  14.0             0.0\n",
       "18783            0.0      0.0  20.0             0.0"
      ]
     },
     "execution_count": 3,
     "metadata": {},
     "output_type": "execute_result"
    }
   ],
   "source": [
    "# 고객들의 RFM 계산\n",
    "from lifetimes.plotting import *\n",
    "from lifetimes.utils import *\n",
    "data = summary_data_from_transaction_data(df, 'CLNT_ID_y'\n",
    "                                            , 'SESS_DT'\n",
    "                                            , monetary_value_col='Sales')\n",
    "data.head()"
   ]
  },
  {
   "cell_type": "markdown",
   "metadata": {},
   "source": [
    "1. 1554고객은 1번만 구매 했으므로(반복 없음), frequency(빈도) 및 recency(최신성)은 0 이며 총생존나이는 85일 입니다.(첫 구매와 분석 기간의 종료 사이의 기간)\n",
    "\n",
    "2. 2558고객은 3번 구매했으며, 총 163일 기간중 가장 최근에 구매한 날이 102일째 였습니다. 또, 고객가치는 1일 구매당 88800원입니다."
   ]
  },
  {
   "cell_type": "code",
   "execution_count": 4,
   "metadata": {},
   "outputs": [
    {
     "name": "stdout",
     "output_type": "stream",
     "text": [
      "count    5867.000000\n",
      "mean        0.684507\n",
      "std         2.324620\n",
      "min         0.000000\n",
      "25%         0.000000\n",
      "50%         0.000000\n",
      "75%         0.000000\n",
      "max        43.000000\n",
      "Name: frequency, dtype: float64\n",
      "0.7613771944775864\n"
     ]
    }
   ],
   "source": [
    "# 고객들의 접속 빈도\n",
    "data['frequency'].plot(kind='hist', bins=50);\n",
    "print(data['frequency'].describe())\n",
    "print(sum(data['frequency'] == 0)/float(len(data)))"
   ]
  },
  {
   "cell_type": "markdown",
   "metadata": {},
   "source": [
    "계산에 의하면 전체 76.7%가 단 한 번만 구매를 했습니다."
   ]
  },
  {
   "cell_type": "code",
   "execution_count": 5,
   "metadata": {},
   "outputs": [
    {
     "name": "stdout",
     "output_type": "stream",
     "text": [
      "<lifetimes.BetaGeoFitter: fitted with 5867 subjects, a: 1.33, alpha: 7.87, b: 3.92, r: 0.12>\n"
     ]
    }
   ],
   "source": [
    "# 빈도/최신성 분석\n",
    "from lifetimes import BetaGeoFitter\n",
    "bgf = BetaGeoFitter(penalizer_coef=0.0)\n",
    "bgf.fit(data['frequency'], data['recency'], data['T'])\n",
    "print(bgf)"
   ]
  },
  {
   "cell_type": "code",
   "execution_count": 6,
   "metadata": {},
   "outputs": [
    {
     "data": {
      "text/plain": [
       "<matplotlib.axes._subplots.AxesSubplot at 0x7fa3cacf1cc0>"
      ]
     },
     "execution_count": 6,
     "metadata": {},
     "output_type": "execute_result"
    },
    {
     "data": {
      "image/png": "[encoded data removed]",
      "text/plain": [
       "<Figure size 864x576 with 2 Axes>"
      ]
     },
     "metadata": {
      "needs_background": "light"
     },
     "output_type": "display_data"
    }
   ],
   "source": [
    "from lifetimes.plotting import plot_frequency_recency_matrix\n",
    "import matplotlib.pyplot as plt\n",
    "fig = plt.figure(figsize=(12,8))\n",
    "plot_frequency_recency_matrix(bgf)"
   ]
  },
  {
   "cell_type": "markdown",
   "metadata": {},
   "source": [
    "- 빈도 / 날짜 행렬 시각화\n",
    "우하향 : 가장 최고의 고객(고매출)이 밝은 색.\n",
    "우상향 : 고매출이나, 자주 오지 않는 사람.\n",
    "(우하향)지금까지 40번 구매를 한 고객은 첫구매와 최근구매가 약 175일의 간격 동안 이루어졌습니다.(꾸준히 매출을 올려주는 고객!)\n",
    "\n",
    "그러나, 표의 중간지점 즉, 드물게 구매하는 고객(10,175)은 다시 구매할지 확실하진 않습니다."
   ]
  },
  {
   "cell_type": "code",
   "execution_count": 7,
   "metadata": {},
   "outputs": [
    {
     "data": {
      "text/plain": [
       "<matplotlib.axes._subplots.AxesSubplot at 0x7fa3cf7aaba8>"
      ]
     },
     "execution_count": 7,
     "metadata": {},
     "output_type": "execute_result"
    },
    {
     "data": {
      "image/png": "[encoded data removed]",
      "text/plain": [
       "<Figure size 864x576 with 2 Axes>"
      ]
     },
     "metadata": {
      "needs_background": "light"
     },
     "output_type": "display_data"
    }
   ],
   "source": [
    "from lifetimes.plotting import plot_probability_alive_matrix\n",
    "fig = plt.figure(figsize=(12,8))\n",
    "plot_probability_alive_matrix(bgf)"
   ]
  },
  {
   "cell_type": "markdown",
   "metadata": {},
   "source": [
    "(40,1175)에 있는 고객은 생존확률이 낮아보입니다, (10,175)는 생존 가능성이 높아 보입니다."
   ]
  },
  {
   "cell_type": "code",
   "execution_count": 8,
   "metadata": {},
   "outputs": [
    {
     "data": {
      "text/html": [
       "<div>\n",
       "<style scoped>\n",
       "    .dataframe tbody tr th:only-of-type {\n",
       "        vertical-align: middle;\n",
       "    }\n",
       "\n",
       "    .dataframe tbody tr th {\n",
       "        vertical-align: top;\n",
       "    }\n",
       "\n",
       "    .dataframe thead th {\n",
       "        text-align: right;\n",
       "    }\n",
       "</style>\n",
       "<table border=\"1\" class=\"dataframe\">\n",
       "  <thead>\n",
       "    <tr style=\"text-align: right;\">\n",
       "      <th></th>\n",
       "      <th>frequency</th>\n",
       "      <th>recency</th>\n",
       "      <th>T</th>\n",
       "      <th>monetary_value</th>\n",
       "      <th>predicted_purchases</th>\n",
       "    </tr>\n",
       "    <tr>\n",
       "      <th>CLNT_ID_y</th>\n",
       "      <th></th>\n",
       "      <th></th>\n",
       "      <th></th>\n",
       "      <th></th>\n",
       "      <th></th>\n",
       "    </tr>\n",
       "  </thead>\n",
       "  <tbody>\n",
       "    <tr>\n",
       "      <th>5993798</th>\n",
       "      <td>9.0</td>\n",
       "      <td>27.0</td>\n",
       "      <td>31.0</td>\n",
       "      <td>1.763944e+05</td>\n",
       "      <td>0.178142</td>\n",
       "    </tr>\n",
       "    <tr>\n",
       "      <th>5947640</th>\n",
       "      <td>8.0</td>\n",
       "      <td>26.0</td>\n",
       "      <td>28.0</td>\n",
       "      <td>1.167342e+06</td>\n",
       "      <td>0.187114</td>\n",
       "    </tr>\n",
       "    <tr>\n",
       "      <th>6061669</th>\n",
       "      <td>9.0</td>\n",
       "      <td>29.0</td>\n",
       "      <td>29.0</td>\n",
       "      <td>1.373933e+05</td>\n",
       "      <td>0.219659</td>\n",
       "    </tr>\n",
       "    <tr>\n",
       "      <th>6028385</th>\n",
       "      <td>9.0</td>\n",
       "      <td>27.0</td>\n",
       "      <td>27.0</td>\n",
       "      <td>1.995333e+05</td>\n",
       "      <td>0.232089</td>\n",
       "    </tr>\n",
       "    <tr>\n",
       "      <th>5806583</th>\n",
       "      <td>9.0</td>\n",
       "      <td>20.0</td>\n",
       "      <td>20.0</td>\n",
       "      <td>5.456000e+05</td>\n",
       "      <td>0.289408</td>\n",
       "    </tr>\n",
       "  </tbody>\n",
       "</table>\n",
       "</div>"
      ],
      "text/plain": [
       "           frequency  recency     T  monetary_value  predicted_purchases\n",
       "CLNT_ID_y                                                               \n",
       "5993798          9.0     27.0  31.0    1.763944e+05             0.178142\n",
       "5947640          8.0     26.0  28.0    1.167342e+06             0.187114\n",
       "6061669          9.0     29.0  29.0    1.373933e+05             0.219659\n",
       "6028385          9.0     27.0  27.0    1.995333e+05             0.232089\n",
       "5806583          9.0     20.0  20.0    5.456000e+05             0.289408"
      ]
     },
     "execution_count": 8,
     "metadata": {},
     "output_type": "execute_result"
    }
   ],
   "source": [
    "d = 1\n",
    "data['predicted_purchases'] = bgf.conditional_expected_number_of_purchases_up_to_time(d, data['frequency'], data['recency'], data['T'])\n",
    "data.sort_values(by='predicted_purchases').tail(5)"
   ]
  },
  {
   "cell_type": "markdown",
   "metadata": {},
   "source": [
    "위 고객들은 다음날(t=1)구매를 기대하는 상위 5명을 보여줍니다. predicted_purchases 열은 에상 구매 홧수를 보여줍니다."
   ]
  },
  {
   "cell_type": "code",
   "execution_count": 9,
   "metadata": {},
   "outputs": [
    {
     "data": {
      "text/plain": [
       "<matplotlib.axes._subplots.AxesSubplot at 0x7fa3d4c63c88>"
      ]
     },
     "execution_count": 9,
     "metadata": {},
     "output_type": "execute_result"
    },
    {
     "data": {
      "image/png": "[encoded data removed]",
      "text/plain": [
       "<Figure size 432x288 with 1 Axes>"
      ]
     },
     "metadata": {
      "needs_background": "light"
     },
     "output_type": "display_data"
    }
   ],
   "source": [
    "from lifetimes.plotting import plot_period_transactions\n",
    "plot_period_transactions(bgf)"
   ]
  },
  {
   "cell_type": "markdown",
   "metadata": {},
   "source": [
    "실제 구매를 하는 고객들과 구매할 것이라고 예측한 값이 거의 일치하게 맞춥니다."
   ]
  },
  {
   "cell_type": "code",
   "execution_count": 10,
   "metadata": {},
   "outputs": [
    {
     "name": "stdout",
     "output_type": "stream",
     "text": [
      "           frequency_cal  recency_cal  T_cal  frequency_holdout  duration_holdout\n",
      "CLNT_ID_y                                                                        \n",
      "36797                0.0          0.0   75.0                0.0                92\n",
      "36803                0.0          0.0   43.0                0.0                92\n",
      "47037                0.0          0.0   88.0                0.0                92\n",
      "58988                0.0          0.0   57.0                0.0                92\n",
      "69014                0.0          0.0   62.0                0.0                92\n"
     ]
    }
   ],
   "source": [
    "from lifetimes.utils import calibration_and_holdout_data\n",
    "summary_cal_holdout = calibration_and_holdout_data(df, 'CLNT_ID_y', 'SESS_DT'\n",
    "                                                   ,\n",
    "                                        calibration_period_end='2018-06-30',\n",
    "                                        observation_period_end='2018-09-30'\n",
    "                                                  )   \n",
    "print(summary_cal_holdout.head())"
   ]
  },
  {
   "cell_type": "markdown",
   "metadata": {},
   "source": [
    "- 이 플롯에서 데이터를 샘플 내(교정) 및 유효성 검사(홀드아웃)기간으로 분리합니다. \n",
    "- 샘플 기간은 2018-04-01부터 시작됩니다. 유효 기간은 2018-06-30에서 2018-09-30까지입니다. \n",
    "- 플롯은 교정주기의 모든 고객을 반복 구매 횟수(x축)로 분류한 다음 보유 기간(y축)에서 반복 구매한 평균을 그룹화합니다. \n",
    "- 주황색과 파란색선은 모델 예측과 y축의 실제 결과를 각각 나타냅니다. \n",
    "- 만든 모델은 견본에서 고객 기반의 행동을 비교적 정확하게 예측할 수 있습니다. "
   ]
  },
  {
   "cell_type": "code",
   "execution_count": 11,
   "metadata": {},
   "outputs": [
    {
     "name": "stderr",
     "output_type": "stream",
     "text": [
      "/home/heemok/.venv/lib/python3.6/site-packages/autograd/tracer.py:48: RuntimeWarning: invalid value encountered in log\n",
      "  return f_raw(*args, **kwargs)\n"
     ]
    },
    {
     "data": {
      "text/plain": [
       "<matplotlib.axes._subplots.AxesSubplot at 0x7fa3c16085f8>"
      ]
     },
     "execution_count": 11,
     "metadata": {},
     "output_type": "execute_result"
    },
    {
     "data": {
      "image/png": "[encoded data removed]",
      "text/plain": [
       "<Figure size 432x288 with 1 Axes>"
      ]
     },
     "metadata": {
      "needs_background": "light"
     },
     "output_type": "display_data"
    }
   ],
   "source": [
    "from lifetimes.plotting import plot_calibration_purchases_vs_holdout_purchases\n",
    "bgf.fit(summary_cal_holdout['frequency_cal'], summary_cal_holdout['recency_cal'], summary_cal_holdout['T_cal'])\n",
    "plot_calibration_purchases_vs_holdout_purchases(bgf, summary_cal_holdout)"
   ]
  },
  {
   "cell_type": "code",
   "execution_count": 22,
   "metadata": {},
   "outputs": [
    {
     "data": {
      "text/plain": [
       "0.39525065364795287"
      ]
     },
     "execution_count": 22,
     "metadata": {},
     "output_type": "execute_result"
    }
   ],
   "source": [
    "t = 10\n",
    "individual = data.loc[6528532]\n",
    "bgf.predict(t, individual['frequency'], individual['recency'], individual['T'])"
   ]
  },
  {
   "cell_type": "markdown",
   "metadata": {},
   "source": [
    "모델은 6528532고객이 향후 거래가 10일 안에 약 높은 비율로 재구매가 이루어 질 것이라고 예측합니다."
   ]
  },
  {
   "cell_type": "code",
   "execution_count": 24,
   "metadata": {},
   "outputs": [
    {
     "data": {
      "text/plain": [
       "<matplotlib.axes._subplots.AxesSubplot at 0x7fa3d7d97c88>"
      ]
     },
     "execution_count": 24,
     "metadata": {},
     "output_type": "execute_result"
    },
    {
     "data": {
      "image/png": "[encoded data removed]",
      "text/plain": [
       "<Figure size 864x576 with 1 Axes>"
      ]
     },
     "metadata": {
      "needs_background": "light"
     },
     "output_type": "display_data"
    }
   ],
   "source": [
    "from lifetimes.plotting import plot_history_alive\n",
    "import matplotlib.pyplot as plt\n",
    "fig = plt.figure(figsize=(12,8))\n",
    "id = 6528532\n",
    "days_since_birth = 365\n",
    "sp_trans = df.loc[df['CLNT_ID_y'] == id]\n",
    "plot_history_alive(bgf, days_since_birth, sp_trans, 'SESS_DT')"
   ]
  },
  {
   "cell_type": "markdown",
   "metadata": {},
   "source": [
    "6528532 고객은 2018년 11월 이후로 이탈할 예정입니다."
   ]
  },
  {
   "cell_type": "code",
   "execution_count": 25,
   "metadata": {},
   "outputs": [
    {
     "data": {
      "text/plain": [
       "<matplotlib.axes._subplots.AxesSubplot at 0x7fa399c567b8>"
      ]
     },
     "execution_count": 25,
     "metadata": {},
     "output_type": "execute_result"
    },
    {
     "data": {
      "image/png": "[encoded data removed]",
      "text/plain": [
       "<Figure size 864x576 with 1 Axes>"
      ]
     },
     "metadata": {
      "needs_background": "light"
     },
     "output_type": "display_data"
    }
   ],
   "source": [
    "fig = plt.figure(figsize=(12,8))\n",
    "id = 6061669\n",
    "days_since_birth = 365\n",
    "sp_trans = df.loc[df['CLNT_ID_y'] == id]\n",
    "plot_history_alive(bgf, days_since_birth, sp_trans, 'SESS_DT')"
   ]
  },
  {
   "cell_type": "markdown",
   "metadata": {},
   "source": [
    "6061669 고객도 2018년 11월 이후로 이탈할 예정입니다."
   ]
  },
  {
   "cell_type": "code",
   "execution_count": 26,
   "metadata": {},
   "outputs": [
    {
     "name": "stdout",
     "output_type": "stream",
     "text": [
      "1400\n"
     ]
    },
    {
     "data": {
      "text/html": [
       "<div>\n",
       "<style scoped>\n",
       "    .dataframe tbody tr th:only-of-type {\n",
       "        vertical-align: middle;\n",
       "    }\n",
       "\n",
       "    .dataframe tbody tr th {\n",
       "        vertical-align: top;\n",
       "    }\n",
       "\n",
       "    .dataframe thead th {\n",
       "        text-align: right;\n",
       "    }\n",
       "</style>\n",
       "<table border=\"1\" class=\"dataframe\">\n",
       "  <thead>\n",
       "    <tr style=\"text-align: right;\">\n",
       "      <th></th>\n",
       "      <th>frequency</th>\n",
       "      <th>recency</th>\n",
       "      <th>T</th>\n",
       "      <th>monetary_value</th>\n",
       "      <th>predicted_purchases</th>\n",
       "    </tr>\n",
       "    <tr>\n",
       "      <th>CLNT_ID_y</th>\n",
       "      <th></th>\n",
       "      <th></th>\n",
       "      <th></th>\n",
       "      <th></th>\n",
       "      <th></th>\n",
       "    </tr>\n",
       "  </thead>\n",
       "  <tbody>\n",
       "    <tr>\n",
       "      <th>481962</th>\n",
       "      <td>1.0</td>\n",
       "      <td>6.0</td>\n",
       "      <td>174.0</td>\n",
       "      <td>40000.0</td>\n",
       "      <td>0.000868</td>\n",
       "    </tr>\n",
       "    <tr>\n",
       "      <th>575604</th>\n",
       "      <td>1.0</td>\n",
       "      <td>150.0</td>\n",
       "      <td>182.0</td>\n",
       "      <td>20650.0</td>\n",
       "      <td>0.004159</td>\n",
       "    </tr>\n",
       "    <tr>\n",
       "      <th>757308</th>\n",
       "      <td>1.0</td>\n",
       "      <td>2.0</td>\n",
       "      <td>153.0</td>\n",
       "      <td>217200.0</td>\n",
       "      <td>0.000793</td>\n",
       "    </tr>\n",
       "    <tr>\n",
       "      <th>798502</th>\n",
       "      <td>1.0</td>\n",
       "      <td>20.0</td>\n",
       "      <td>175.0</td>\n",
       "      <td>44000.0</td>\n",
       "      <td>0.001610</td>\n",
       "    </tr>\n",
       "    <tr>\n",
       "      <th>804089</th>\n",
       "      <td>2.0</td>\n",
       "      <td>99.0</td>\n",
       "      <td>174.0</td>\n",
       "      <td>67495.0</td>\n",
       "      <td>0.006339</td>\n",
       "    </tr>\n",
       "  </tbody>\n",
       "</table>\n",
       "</div>"
      ],
      "text/plain": [
       "           frequency  recency      T  monetary_value  predicted_purchases\n",
       "CLNT_ID_y                                                                \n",
       "481962           1.0      6.0  174.0         40000.0             0.000868\n",
       "575604           1.0    150.0  182.0         20650.0             0.004159\n",
       "757308           1.0      2.0  153.0        217200.0             0.000793\n",
       "798502           1.0     20.0  175.0         44000.0             0.001610\n",
       "804089           2.0     99.0  174.0         67495.0             0.006339"
      ]
     },
     "execution_count": 26,
     "metadata": {},
     "output_type": "execute_result"
    }
   ],
   "source": [
    "# 이제 각 거래의 경제적 가치를 고려할 수 있습니다. \n",
    "returning_customers_summary = data[data['frequency']>0]\n",
    "\n",
    "print(len(returning_customers_summary))\n",
    "returning_customers_summary.head()"
   ]
  },
  {
   "cell_type": "markdown",
   "metadata": {},
   "source": [
    "각 고객의 평균 거래 가격을 산정 할 수 있습니다."
   ]
  },
  {
   "cell_type": "code",
   "execution_count": 27,
   "metadata": {},
   "outputs": [
    {
     "name": "stdout",
     "output_type": "stream",
     "text": [
      "<lifetimes.GammaGammaFitter: fitted with 1400 subjects, p: 1.04, q: 2.15, v: 376920.07>\n"
     ]
    }
   ],
   "source": [
    "from lifetimes import GammaGammaFitter\n",
    "ggf = GammaGammaFitter(penalizer_coef = 0)\n",
    "ggf.fit(returning_customers_summary['frequency'],\n",
    "        returning_customers_summary['monetary_value'])\n",
    "print(ggf)"
   ]
  },
  {
   "cell_type": "code",
   "execution_count": 28,
   "metadata": {},
   "outputs": [
    {
     "name": "stdout",
     "output_type": "stream",
     "text": [
      "CLNT_ID_y\n",
      "1554     339012.286436\n",
      "3572     339012.286436\n",
      "5099     339012.286436\n",
      "6759     339012.286436\n",
      "18783    339012.286436\n",
      "18864    339012.286436\n",
      "19391    339012.286436\n",
      "19499    339012.286436\n",
      "20719    339012.286436\n",
      "33620    339012.286436\n",
      "dtype: float64\n"
     ]
    }
   ],
   "source": [
    "# 다음은 앞으로 고객들이 구매를 할 평균 구매액입니다.\n",
    "print(ggf.conditional_expected_average_profit(\n",
    "        data['frequency'],\n",
    "        data['monetary_value']\n",
    "    ).head(10))"
   ]
  },
  {
   "cell_type": "markdown",
   "metadata": {},
   "source": [
    "# 2. RFM 분석을 바탕으로 그룹화한 집단을 이용해 분류 문제 수행\n",
    "1번의 세가지 특징을 바탕으로 클러스터링을 진행하고 나뉜 그룹 번호를 이용해 분류 문제를 수행합니다.\n",
    "- RFM 기준으로 고객을 클러스터링 하고 그 레이블을 이용해 분류문제를 수행합니다.\n",
    "1. RFM 각각의 기준으로 만든 클러스터링을 통한 데이터를 만듭니다.\n",
    "2. Revenue만을 기준으로 만든 클러스터링을 통한 데이터를 만듭니다.\n",
    "3. 둘을 합친 후 분류문제를 수행합니다."
   ]
  },
  {
   "cell_type": "code",
   "execution_count": 29,
   "metadata": {},
   "outputs": [],
   "source": [
    "#import libraries\n",
    "from datetime import datetime, timedelta,date\n",
    "import pandas as pd\n",
    "%matplotlib inline\n",
    "from sklearn.metrics import classification_report,confusion_matrix\n",
    "import matplotlib.pyplot as plt\n",
    "import numpy as np\n",
    "import seaborn as sns\n",
    "#from __future__ import division\n",
    "from sklearn.cluster import KMeans\n",
    "\n",
    "\n",
    "\n",
    "\n",
    "import xgboost as xgb\n",
    "from sklearn.model_selection import KFold, cross_val_score, train_test_split\n",
    "\n",
    "import xgboost as xgb\n",
    "\n",
    "#initate plotly\n",
    "\n",
    "# 각 고객별로 구매 금액 정보를 가지고 있는 테이블을 만듭니다.\n",
    "tx_3m=df\n",
    "tx_3m[['PD_BUY_AM','PD_BUY_CT']]=test[['PD_BUY_AM','PD_BUY_CT']]\n",
    "#create tx_user for assigning clustering\n",
    "tx_user = pd.DataFrame(tx_3m['CLNT_ID_y'].unique())\n",
    "tx_user.columns = ['CLNT_ID_y']\n",
    "\n",
    "#order cluster method - 만들어진 각각의 클러스터링 데이터에 대해 고객별로 평균치를 구하여 산출합니다.\n",
    "def order_cluster(cluster_field_name, target_field_name,df,ascending):\n",
    "    new_cluster_field_name = 'new_' + cluster_field_name\n",
    "    df_new = df.groupby(cluster_field_name)[target_field_name].mean().reset_index()\n",
    "    df_new = df_new.sort_values(by=target_field_name,ascending=ascending).reset_index(drop=True)\n",
    "    df_new['index'] = df_new.index\n",
    "    df_final = pd.merge(df,df_new[[cluster_field_name,'index']], on=cluster_field_name)\n",
    "    df_final = df_final.drop([cluster_field_name],axis=1)\n",
    "    df_final = df_final.rename(columns={\"index\":cluster_field_name})\n",
    "    return df_final\n",
    "\n",
    "\n",
    "#calculate recency score - 각 고객별로 마지막 구매날짜를 구합니다.\n",
    "tx_max_purchase = tx_3m.groupby('CLNT_ID_y').SESS_DT.max().reset_index()\n",
    "tx_max_purchase.columns = ['CLNT_ID_y','MaxPurchaseDate']\n",
    "tx_max_purchase['MaxPurchaseDate']=tx_max_purchase['MaxPurchaseDate'].apply(lambda x: datetime.strptime(str(x), '%Y-%m-%d'))\n",
    "tx_max_purchase['Recency'] = (tx_max_purchase['MaxPurchaseDate'].max() - tx_max_purchase['MaxPurchaseDate']).dt.days\n",
    "tx_user = pd.merge(tx_user, tx_max_purchase[['CLNT_ID_y','Recency']], on='CLNT_ID_y')\n",
    "\n",
    "# 마지막 구매날짜를 바탕으로 클러스터링을 진행합니다.\n",
    "kmeans = KMeans(n_clusters=4)\n",
    "kmeans.fit(tx_user[['Recency']])\n",
    "tx_user['RecencyCluster'] = kmeans.predict(tx_user[['Recency']])\n",
    "\n",
    "tx_user = order_cluster('RecencyCluster', 'Recency',tx_user,False)\n",
    "\n",
    "#calcuate frequency score - 각 고객별로 접속 횟수를 구합니다.\n",
    "tx_frequency = tx_3m.groupby('CLNT_ID_y').SESS_DT.count().reset_index()\n",
    "tx_frequency.columns = ['CLNT_ID_y','Frequency']\n",
    "tx_user = pd.merge(tx_user, tx_frequency, on='CLNT_ID_y')\n",
    "\n",
    "# 접속 횟수를 바탕으로 클러스터링을 진행합니다.\n",
    "kmeans = KMeans(n_clusters=4)\n",
    "kmeans.fit(tx_user[['Frequency']])\n",
    "tx_user['FrequencyCluster'] = kmeans.predict(tx_user[['Frequency']])\n",
    "\n",
    "tx_user = order_cluster('FrequencyCluster', 'Frequency',tx_user,True)\n",
    "\n",
    "#calcuate revenue score - 각 고객별로 총 구매한 금액을 구합니다.\n",
    "tx_3m['Revenue'] = tx_3m['PD_BUY_AM'] * tx_3m['PD_BUY_CT']\n",
    "tx_revenue = tx_3m.groupby('CLNT_ID_y').Revenue.sum().reset_index()\n",
    "tx_user = pd.merge(tx_user, tx_revenue, on='CLNT_ID_y')\n",
    "\n",
    "# 구매한 총 금액을 바탕으로 클러스터링을 진행합니다.\n",
    "kmeans = KMeans(n_clusters=4)\n",
    "kmeans.fit(tx_user[['Revenue']])\n",
    "tx_user['RevenueCluster'] = kmeans.predict(tx_user[['Revenue']])\n",
    "tx_user = order_cluster('RevenueCluster', 'Revenue',tx_user,True)\n",
    "\n",
    "\n",
    "#overall scoring - Recency, Frequency, Revenue 세 지표를 바탕으로 고객들을 high/mid/low의 충성도로 분류합니다.\n",
    "tx_user['OverallScore'] = tx_user['RecencyCluster'] + tx_user['FrequencyCluster'] + tx_user['RevenueCluster']\n",
    "tx_user['Segment'] = 'Low-Value'\n",
    "tx_user.loc[tx_user['OverallScore']>2,'Segment'] = 'Mid-Value' \n",
    "tx_user.loc[tx_user['OverallScore']>4,'Segment'] = 'High-Value' \n"
   ]
  },
  {
   "cell_type": "code",
   "execution_count": 30,
   "metadata": {},
   "outputs": [
    {
     "data": {
      "text/html": [
       "<div>\n",
       "<style scoped>\n",
       "    .dataframe tbody tr th:only-of-type {\n",
       "        vertical-align: middle;\n",
       "    }\n",
       "\n",
       "    .dataframe tbody tr th {\n",
       "        vertical-align: top;\n",
       "    }\n",
       "\n",
       "    .dataframe thead th {\n",
       "        text-align: right;\n",
       "    }\n",
       "</style>\n",
       "<table border=\"1\" class=\"dataframe\">\n",
       "  <thead>\n",
       "    <tr style=\"text-align: right;\">\n",
       "      <th></th>\n",
       "      <th>CLNT_ID_y</th>\n",
       "      <th>Recency</th>\n",
       "      <th>RecencyCluster</th>\n",
       "      <th>Frequency</th>\n",
       "      <th>FrequencyCluster</th>\n",
       "      <th>Revenue</th>\n",
       "      <th>RevenueCluster</th>\n",
       "      <th>OverallScore</th>\n",
       "      <th>Segment</th>\n",
       "    </tr>\n",
       "  </thead>\n",
       "  <tbody>\n",
       "    <tr>\n",
       "      <th>0</th>\n",
       "      <td>5607714</td>\n",
       "      <td>69</td>\n",
       "      <td>2</td>\n",
       "      <td>15</td>\n",
       "      <td>0</td>\n",
       "      <td>522000</td>\n",
       "      <td>0</td>\n",
       "      <td>2</td>\n",
       "      <td>Low-Value</td>\n",
       "    </tr>\n",
       "    <tr>\n",
       "      <th>1</th>\n",
       "      <td>5611879</td>\n",
       "      <td>57</td>\n",
       "      <td>2</td>\n",
       "      <td>10</td>\n",
       "      <td>0</td>\n",
       "      <td>740000</td>\n",
       "      <td>0</td>\n",
       "      <td>2</td>\n",
       "      <td>Low-Value</td>\n",
       "    </tr>\n",
       "    <tr>\n",
       "      <th>2</th>\n",
       "      <td>5616163</td>\n",
       "      <td>81</td>\n",
       "      <td>2</td>\n",
       "      <td>3</td>\n",
       "      <td>0</td>\n",
       "      <td>261600</td>\n",
       "      <td>0</td>\n",
       "      <td>2</td>\n",
       "      <td>Low-Value</td>\n",
       "    </tr>\n",
       "    <tr>\n",
       "      <th>3</th>\n",
       "      <td>5624502</td>\n",
       "      <td>83</td>\n",
       "      <td>2</td>\n",
       "      <td>3</td>\n",
       "      <td>0</td>\n",
       "      <td>47900</td>\n",
       "      <td>0</td>\n",
       "      <td>2</td>\n",
       "      <td>Low-Value</td>\n",
       "    </tr>\n",
       "    <tr>\n",
       "      <th>4</th>\n",
       "      <td>5624823</td>\n",
       "      <td>85</td>\n",
       "      <td>2</td>\n",
       "      <td>14</td>\n",
       "      <td>0</td>\n",
       "      <td>400900</td>\n",
       "      <td>0</td>\n",
       "      <td>2</td>\n",
       "      <td>Low-Value</td>\n",
       "    </tr>\n",
       "  </tbody>\n",
       "</table>\n",
       "</div>"
      ],
      "text/plain": [
       "   CLNT_ID_y  Recency  RecencyCluster  Frequency  FrequencyCluster  Revenue  RevenueCluster  OverallScore    Segment\n",
       "0    5607714       69               2         15                 0   522000               0             2  Low-Value\n",
       "1    5611879       57               2         10                 0   740000               0             2  Low-Value\n",
       "2    5616163       81               2          3                 0   261600               0             2  Low-Value\n",
       "3    5624502       83               2          3                 0    47900               0             2  Low-Value\n",
       "4    5624823       85               2         14                 0   400900               0             2  Low-Value"
      ]
     },
     "execution_count": 30,
     "metadata": {},
     "output_type": "execute_result"
    }
   ],
   "source": [
    "tx_user.head()"
   ]
  },
  {
   "cell_type": "markdown",
   "metadata": {},
   "source": [
    "한 고객의 평균 Recency, Frequency, Revenue를 알 수 있으며, 각 변수들로 군집화된 집단 번호를 갖고 있으며, \n",
    "이 세 가지 지표를 바탕으로 하여 최종 스코어 overallscore를 구한 후 충성도를 분류합니다."
   ]
  },
  {
   "cell_type": "markdown",
   "metadata": {},
   "source": [
    "## 구매금액만을 기준으로 클러스터링을 진행해봅니다."
   ]
  },
  {
   "cell_type": "code",
   "execution_count": 31,
   "metadata": {},
   "outputs": [
    {
     "data": {
      "text/html": [
       "<div>\n",
       "<style scoped>\n",
       "    .dataframe tbody tr th:only-of-type {\n",
       "        vertical-align: middle;\n",
       "    }\n",
       "\n",
       "    .dataframe tbody tr th {\n",
       "        vertical-align: top;\n",
       "    }\n",
       "\n",
       "    .dataframe thead th {\n",
       "        text-align: right;\n",
       "    }\n",
       "</style>\n",
       "<table border=\"1\" class=\"dataframe\">\n",
       "  <thead>\n",
       "    <tr style=\"text-align: right;\">\n",
       "      <th></th>\n",
       "      <th>count</th>\n",
       "      <th>mean</th>\n",
       "      <th>std</th>\n",
       "      <th>min</th>\n",
       "      <th>25%</th>\n",
       "      <th>50%</th>\n",
       "      <th>75%</th>\n",
       "      <th>max</th>\n",
       "    </tr>\n",
       "    <tr>\n",
       "      <th>LTVCluster</th>\n",
       "      <th></th>\n",
       "      <th></th>\n",
       "      <th></th>\n",
       "      <th></th>\n",
       "      <th></th>\n",
       "      <th></th>\n",
       "      <th></th>\n",
       "      <th></th>\n",
       "    </tr>\n",
       "  </thead>\n",
       "  <tbody>\n",
       "    <tr>\n",
       "      <th>0</th>\n",
       "      <td>4758.0</td>\n",
       "      <td>2.986653e+05</td>\n",
       "      <td>2.619757e+05</td>\n",
       "      <td>1180.0</td>\n",
       "      <td>89700.0</td>\n",
       "      <td>209900.0</td>\n",
       "      <td>443975.0</td>\n",
       "      <td>1063160.0</td>\n",
       "    </tr>\n",
       "    <tr>\n",
       "      <th>1</th>\n",
       "      <td>844.0</td>\n",
       "      <td>1.833957e+06</td>\n",
       "      <td>5.833048e+05</td>\n",
       "      <td>1067800.0</td>\n",
       "      <td>1323000.0</td>\n",
       "      <td>1702600.0</td>\n",
       "      <td>2252242.5</td>\n",
       "      <td>3172000.0</td>\n",
       "    </tr>\n",
       "    <tr>\n",
       "      <th>2</th>\n",
       "      <td>206.0</td>\n",
       "      <td>4.532110e+06</td>\n",
       "      <td>1.017278e+06</td>\n",
       "      <td>3186200.0</td>\n",
       "      <td>3743475.0</td>\n",
       "      <td>4332750.0</td>\n",
       "      <td>5257080.0</td>\n",
       "      <td>6899740.0</td>\n",
       "    </tr>\n",
       "  </tbody>\n",
       "</table>\n",
       "</div>"
      ],
      "text/plain": [
       "             count          mean           std        min        25%        50%        75%        max\n",
       "LTVCluster                                                                                           \n",
       "0           4758.0  2.986653e+05  2.619757e+05     1180.0    89700.0   209900.0   443975.0  1063160.0\n",
       "1            844.0  1.833957e+06  5.833048e+05  1067800.0  1323000.0  1702600.0  2252242.5  3172000.0\n",
       "2            206.0  4.532110e+06  1.017278e+06  3186200.0  3743475.0  4332750.0  5257080.0  6899740.0"
      ]
     },
     "execution_count": 31,
     "metadata": {},
     "output_type": "execute_result"
    }
   ],
   "source": [
    "#remove outliers - 정규분포에서 벗어나는 구매금액의 이상치를 제거합니다.\n",
    "tx_merge = tx_user[tx_user['Revenue']<tx_user['Revenue'].quantile(0.99)]\n",
    "\n",
    "\n",
    "#creating 3 clusters - 구매금액 기준으로 클러스터링을 진행합니다.\n",
    "kmeans = KMeans(n_clusters=3)\n",
    "kmeans.fit(tx_merge[['Revenue']])\n",
    "tx_merge['LTVCluster'] = kmeans.predict(tx_merge[['Revenue']])\n",
    "\n",
    "#order cluster number based on LTV - 클러스터링 결과와 기존 RFM을 이용한 클러스터링 데이터와 합칩니다.\n",
    "tx_merge = order_cluster('LTVCluster', 'Revenue',tx_merge,True)\n",
    "\n",
    "#creatinga new cluster dataframe\n",
    "tx_cluster = tx_merge.copy()\n",
    "\n",
    "#see details of the clusters - 클러스터링한 집단별 구매금액 성향의 차이를 파악합니다.\n",
    "tx_cluster.groupby('LTVCluster')['Revenue'].describe()"
   ]
  },
  {
   "cell_type": "markdown",
   "metadata": {},
   "source": [
    "## 세 집단의 구매량에 대한 통계치를 나타냅니다. \n",
    "1. 0 집단이 가장 구매 횟수가 많으나, 평균적으로 구매 금액이 적습니다.\n",
    "2. 1 집단은 2위로 횟수가 많고 2위로 구매금액이 많습니다.\n",
    "3. 2 집단은 가장 횟수가 적으나, 구매금액 자체가 평균적으로 높습니다."
   ]
  },
  {
   "cell_type": "code",
   "execution_count": 32,
   "metadata": {},
   "outputs": [],
   "source": [
    "#convert categorical columns to numerical\n",
    "tx_class = pd.get_dummies(tx_cluster)\n",
    "\n",
    "#calculate and show correlations\n",
    "corr_matrix = tx_class.corr()\n",
    "corr_matrix['LTVCluster'].sort_values(ascending=False)\n",
    "\n",
    "#create X and y, X will be feature set and y is the label - LTV - feature와 label을 만듭니다.\n",
    "X = tx_class.drop(['LTVCluster','Revenue'],axis=1)\n",
    "y = tx_class['LTVCluster']\n",
    "\n",
    "#split training and test sets - 훈련하기 위해 hold out 검정을 실시합니다.\n",
    "X_train, X_test, y_train, y_test = train_test_split(X, y, test_size=0.05, random_state=56)\n"
   ]
  },
  {
   "cell_type": "code",
   "execution_count": 33,
   "metadata": {},
   "outputs": [
    {
     "data": {
      "text/plain": [
       "LTVCluster            1.000000\n",
       "Revenue               0.911546\n",
       "RevenueCluster        0.854049\n",
       "Frequency             0.662095\n",
       "FrequencyCluster      0.648233\n",
       "Segment_High-Value    0.536394\n",
       "OverallScore          0.490528\n",
       "Segment_Mid-Value     0.077473\n",
       "RecencyCluster        0.050017\n",
       "CLNT_ID_y             0.000769\n",
       "Recency              -0.060253\n",
       "Segment_Low-Value    -0.305579\n",
       "Name: LTVCluster, dtype: float64"
      ]
     },
     "execution_count": 33,
     "metadata": {},
     "output_type": "execute_result"
    }
   ],
   "source": [
    "# 구매 금액만을 가지고 클러스터링을 한 집단에 가장 영향을 미치는 변수들을 찾아봅니다.\n",
    "# 영향력은 구매금액이 당연히 가장 높고 다음으로 빈도, 그리고 최신성입니다.\n",
    "corr_matrix = tx_class.corr()\n",
    "corr_matrix['LTVCluster'].sort_values(ascending=False)"
   ]
  },
  {
   "cell_type": "code",
   "execution_count": 34,
   "metadata": {},
   "outputs": [
    {
     "name": "stdout",
     "output_type": "stream",
     "text": [
      "Accuracy of XGB classifier on training set: 0.95\n",
      "Accuracy of XGB classifier on test set: 0.95\n",
      "              precision    recall  f1-score   support\n",
      "\n",
      "           0       0.95      1.00      0.97       250\n",
      "           1       0.87      0.61      0.71        33\n",
      "           2       0.86      0.75      0.80         8\n",
      "\n",
      "    accuracy                           0.95       291\n",
      "   macro avg       0.89      0.78      0.83       291\n",
      "weighted avg       0.94      0.95      0.94       291\n",
      "\n"
     ]
    }
   ],
   "source": [
    "#XGBoost Multiclassification Model\n",
    "# xgboost를 이용하여 분류모델을 만듭니다.\n",
    "ltv_xgb_model = xgb.XGBClassifier(max_depth=5, learning_rate=0.1,objective= 'multi:softprob',n_jobs=-1).fit(X_train, y_train)\n",
    "\n",
    "print('Accuracy of XGB classifier on training set: {:.2f}'\n",
    "       .format(ltv_xgb_model.score(X_train, y_train)))\n",
    "print('Accuracy of XGB classifier on test set: {:.2f}'\n",
    "       .format(ltv_xgb_model.score(X_test[X_train.columns], y_test)))\n",
    "\n",
    "y_pred = ltv_xgb_model.predict(X_test)\n",
    "print(classification_report(y_test, y_pred))"
   ]
  },
  {
   "cell_type": "markdown",
   "metadata": {},
   "source": [
    "이 집단으로 나눠진 인원들에 대해서 고객 세그멘트를 잘할 수 있는 모델을 만들었습니다.\n",
    "즉 이 결과는 고객들의 타겟팅할 경우에 중요한 그룹을 설정할 수 있습니다."
   ]
  },
  {
   "cell_type": "code",
   "execution_count": null,
   "metadata": {},
   "outputs": [],
   "source": []
  }
 ],
 "metadata": {
  "kernelspec": {
   "display_name": "Python 3",
   "language": "python",
   "name": "python3"
  },
  "language_info": {
   "codemirror_mode": {
    "name": "ipython",
    "version": 3
   },
   "file_extension": ".py",
   "mimetype": "text/x-python",
   "name": "python",
   "nbconvert_exporter": "python",
   "pygments_lexer": "ipython3",
   "version": "3.6.8"
  }
 },
 "nbformat": 4,
 "nbformat_minor": 2
}
